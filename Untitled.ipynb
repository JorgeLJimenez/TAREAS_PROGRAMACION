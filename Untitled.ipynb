{
 "cells": [
  {
   "cell_type": "code",
   "execution_count": 68,
   "id": "8f4bc488",
   "metadata": {},
   "outputs": [
    {
     "name": "stdout",
     "output_type": "stream",
     "text": [
      "Matrix:\n",
      "[[2 4 6]\n",
      " [1 3 5]]\n",
      "Matrix:\n",
      "[[1 2 3]\n",
      " [4 5 6]\n",
      " [0 1 1]]\n",
      "2.9999999999999996\n",
      "La matriz ingresada no es cuadrada.\n"
     ]
    }
   ],
   "source": [
    "import numpy as np\n",
    "import random \n",
    "\n",
    "class Matrix:\n",
    "    def __init__(self, M):\n",
    "        if not M:\n",
    "            n=random.randint(1,10)\n",
    "            m=random.randint(1,10)\n",
    "            self.shape=[n,m]\n",
    "            M=np.random.randint(-7,7,[n,m])\n",
    "            self.M=M.tolist()\n",
    "        else:       \n",
    "            n=len(M)\n",
    "            m=len(M[0])\n",
    "            self.shape=[n,m]\n",
    "            self.M=M\n",
    "    def __str__(self):\n",
    "        return f\"Matrix:\\n{np.array(self.M)}\"\n",
    "    def __sum_with__(self,A):\n",
    "        M1=np.array(A)\n",
    "        M2=np.array(self.M)\n",
    "        response=M1.__add__(M2)\n",
    "        return(Matrix(response.tolist()))\n",
    "    \n",
    "class SquaredMatrix(Matrix):\n",
    "    def __init__(self,M):\n",
    "        super().__init__(M)\n",
    "    def __determinant__(self):\n",
    "        try:\n",
    "            response=np.linalg.det(np.array(self.M))\n",
    "            return(response)\n",
    "        except: \n",
    "            return \"La matriz ingresada no es cuadrada.\"\n",
    "\n",
    "M=Matrix([[2,4,6],[1,3,5]])\n",
    "print(M)\n",
    "V1=SquaredMatrix([[1,2,3],[4,5,6],[0,1,1]])\n",
    "print(V1)\n",
    "V2=SquaredMatrix([[1,2,3],[4,5,6]])\n",
    "V1.__sum_with__([[2,3,4],[5,7,2],[1,0,0]])\n",
    "print(V1.__determinant__())\n",
    "print(V2.__determinant__())\n",
    "V3=SquaredMatrix([[3,2,1],[6,5,4],[1,0,1]])\n",
    "#print(V1+V3)\n"
   ]
  },
  {
   "cell_type": "code",
   "execution_count": null,
   "id": "e4155827",
   "metadata": {},
   "outputs": [],
   "source": []
  },
  {
   "cell_type": "code",
   "execution_count": null,
   "id": "10ce08a2",
   "metadata": {},
   "outputs": [],
   "source": []
  }
 ],
 "metadata": {
  "kernelspec": {
   "display_name": "Python 3 (ipykernel)",
   "language": "python",
   "name": "python3"
  },
  "language_info": {
   "codemirror_mode": {
    "name": "ipython",
    "version": 3
   },
   "file_extension": ".py",
   "mimetype": "text/x-python",
   "name": "python",
   "nbconvert_exporter": "python",
   "pygments_lexer": "ipython3",
   "version": "3.11.2"
  }
 },
 "nbformat": 4,
 "nbformat_minor": 5
}
