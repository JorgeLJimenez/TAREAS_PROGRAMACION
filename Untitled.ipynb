{
 "cells": [
  {
   "cell_type": "code",
   "execution_count": 64,
   "id": "603c8998",
   "metadata": {},
   "outputs": [
    {
     "name": "stdout",
     "output_type": "stream",
     "text": [
      "Matrix:\n",
      "[[2 4 6]\n",
      " [1 3 5]]\n",
      "Matrix:\n",
      "[[1 2 3]\n",
      " [4 5 6]\n",
      " [0 1 1]]\n",
      "2.9999999999999996\n",
      "La matriz ingresada no es cuadrada.\n"
     ]
    },
    {
     "ename": "TypeError",
     "evalue": "unsupported operand type(s) for +: 'SquaredMatrix' and 'SquaredMatrix'",
     "output_type": "error",
     "traceback": [
      "\u001b[1;31m---------------------------------------------------------------------------\u001b[0m",
      "\u001b[1;31mTypeError\u001b[0m                                 Traceback (most recent call last)",
      "Cell \u001b[1;32mIn[64], line 50\u001b[0m\n\u001b[0;32m     48\u001b[0m V2\u001b[38;5;241m.\u001b[39m__determinant__()\n\u001b[0;32m     49\u001b[0m V3\u001b[38;5;241m=\u001b[39mSquaredMatrix([[\u001b[38;5;241m3\u001b[39m,\u001b[38;5;241m2\u001b[39m,\u001b[38;5;241m1\u001b[39m],[\u001b[38;5;241m6\u001b[39m,\u001b[38;5;241m5\u001b[39m,\u001b[38;5;241m4\u001b[39m],[\u001b[38;5;241m1\u001b[39m,\u001b[38;5;241m0\u001b[39m,\u001b[38;5;241m1\u001b[39m]])\n\u001b[1;32m---> 50\u001b[0m \u001b[38;5;28mprint\u001b[39m(\u001b[43mV1\u001b[49m\u001b[38;5;241;43m+\u001b[39;49m\u001b[43mV3\u001b[49m)\n",
      "\u001b[1;31mTypeError\u001b[0m: unsupported operand type(s) for +: 'SquaredMatrix' and 'SquaredMatrix'"
     ]
    }
   ],
   "source": [
    "import numpy as np\n",
    "import random \n",
    "\n",
    "class Matrix:\n",
    "    def __init__(self, M):\n",
    "        if not M:\n",
    "            n=random.randint(1,10)\n",
    "            m=random.randint(1,10)\n",
    "            self.shape=[n,m]\n",
    "            M=np.random.randint(-7,7,[n,m])\n",
    "            self.M=M.tolist()\n",
    "        else:       \n",
    "            n=len(M)\n",
    "            m=len(M[0])\n",
    "            self.shape=[n,m]\n",
    "            self.M=M\n",
    "    def __str__(self):\n",
    "        return f\"Matrix:\\n{np.array(self.M)}\"\n",
    "    def __sum_with__(self,A):\n",
    "        M1=np.array(A)\n",
    "        M2=np.array(self.M)\n",
    "        response=M1.__add__(M2)\n",
    "        return(Matrix(response.tolist()))\n",
    "    \n",
    "class SquaredMatrix(Matrix):\n",
    "    def __init__(self,M):\n",
    "        super().__init__(M)\n",
    "    def __determinant__(self):\n",
    "        try:\n",
    "            response=np.linalg.det(np.array(self.M))\n",
    "            return(response)\n",
    "        except: \n",
    "            print(\"La matriz ingresada no es cuadrada.\")\n",
    "\n",
    "M=Matrix([[2,4,6],[1,3,5]])\n",
    "print(M)\n",
    "V1=SquaredMatrix([[1,2,3],[4,5,6],[0,1,1]])\n",
    "print(V1)\n",
    "V2=SquaredMatrix([[1,2,3],[4,5,6]])\n",
    "V1.__sum_with__([[2,3,4],[5,7,2],[1,0,0]])\n",
    "print(V1.__determinant__())\n",
    "V2.__determinant__()\n",
    "V3=SquaredMatrix([[3,2,1],[6,5,4],[1,0,1]])\n",
    "print(V1+V3)\n"
   ]
  },
  {
   "cell_type": "code",
   "execution_count": null,
   "id": "7fa074e8",
   "metadata": {},
   "outputs": [],
   "source": []
  }
 ],
 "metadata": {
  "kernelspec": {
   "display_name": "Python 3 (ipykernel)",
   "language": "python",
   "name": "python3"
  },
  "language_info": {
   "codemirror_mode": {
    "name": "ipython",
    "version": 3
   },
   "file_extension": ".py",
   "mimetype": "text/x-python",
   "name": "python",
   "nbconvert_exporter": "python",
   "pygments_lexer": "ipython3",
   "version": "3.11.2"
  }
 },
 "nbformat": 4,
 "nbformat_minor": 5
}
