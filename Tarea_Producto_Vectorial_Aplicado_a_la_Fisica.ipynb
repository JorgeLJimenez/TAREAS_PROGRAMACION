{
 "cells": [
  {
   "cell_type": "code",
   "execution_count": 10,
   "id": "583e43a7",
   "metadata": {},
   "outputs": [
    {
     "name": "stdout",
     "output_type": "stream",
     "text": [
      "posición: [1i + 2j + 3k] m\n",
      "velocidad: [4i + 5j + 6k] m/s\n",
      "masa: 7 kg\n",
      "Momento angular: [-21i + 42j + -49k] (kg*m^2)/s\n"
     ]
    }
   ],
   "source": [
    "class Particula:\n",
    "    #atributos\n",
    "    def __init__(self, componente_x, componente_y, componente_z, velocidad_x, velocidad_y, velocidad_z, masa):\n",
    "        self.x = componente_x\n",
    "        self.y = componente_y\n",
    "        self.z = componente_z\n",
    "        self.v_x = velocidad_x\n",
    "        self.v_y = velocidad_y\n",
    "        self.v_z = velocidad_z\n",
    "        self.m = masa\n",
    "\n",
    "      #métodos\n",
    "    def __str__(self):\n",
    "        posicion = \"[\" + str(self.x) + \"i + \" + str(self.y) + \"j + \" + str(self.z) + \"k] m\"\n",
    "        velocidad = \"[\" + str(self.v_x) + \"i + \" + str(self.v_y) + \"j + \" + str(self.v_z) + \"k] m/s\"\n",
    "        masa = str(self.m) + \" kg\"\n",
    "        informacion = \"posición: \" + posicion + \"\\n\" + \"velocidad: \" + velocidad+ \"\\n\" + \"masa: \" + masa\n",
    "        return (informacion)\n",
    "  \n",
    "    def momento_angular(self, particula): #aqui se usa el producto vectorial\n",
    "        L_x = particula.m*(particula.y*particula.v_z - particula.z*particula.v_y)\n",
    "        L_y = particula.m*(particula.z*particula.v_x - particula.x*particula.v_z)\n",
    "        L_z = particula.m*(particula.x*particula.v_y - particula.y*particula.v_z)\n",
    "        resultado = \"[\" + str(L_x) + \"i + \" + str(L_y) + \"j + \" + str(L_z) + \"k] (kg*m^2)/s\"\n",
    "        return(\"Momento angular: \"+resultado)\n",
    "    \n",
    "P=Particula(1,2,3,4,5,6,7)\n",
    "print(P)\n",
    "print(P.momento_angular(P))"
   ]
  },
  {
   "cell_type": "code",
   "execution_count": null,
   "id": "9cde6285",
   "metadata": {},
   "outputs": [],
   "source": []
  }
 ],
 "metadata": {
  "kernelspec": {
   "display_name": "Python 3 (ipykernel)",
   "language": "python",
   "name": "python3"
  },
  "language_info": {
   "codemirror_mode": {
    "name": "ipython",
    "version": 3
   },
   "file_extension": ".py",
   "mimetype": "text/x-python",
   "name": "python",
   "nbconvert_exporter": "python",
   "pygments_lexer": "ipython3",
   "version": "3.11.2"
  }
 },
 "nbformat": 4,
 "nbformat_minor": 5
}
