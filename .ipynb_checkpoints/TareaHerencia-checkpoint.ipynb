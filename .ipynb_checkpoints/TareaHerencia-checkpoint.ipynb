{
 "cells": [
  {
   "cell_type": "code",
   "execution_count": 97,
   "id": "553a693b",
   "metadata": {},
   "outputs": [
    {
     "name": "stdout",
     "output_type": "stream",
     "text": [
      "M = [[2, 4, 6], [1, 3, 5]]\n",
      "M1 = [[1, 2, 3], [4, 5, 6], [0, 1, 1]]\n",
      "[[3, 5, 7], [9, 12, 8], [1, 1, 1]]\n",
      "Determinante: 2.9999999999999996\n",
      "La matriz ingresada no es cuadrada.\n",
      "eigenvalues: [(7.456304347705197+0j), (-0.22815217385259604+0.5918535944279951j), (-0.22815217385259604-0.5918535944279951j)]\n",
      "eigenvectors: [[(0.3529657401975408+0j), (-0.22174323940189014+0.43918091146142196j), (-0.22174323940189014-0.43918091146142196j)], [(0.9246112211188886+0j), (0.7020023210895325+0j), (0.7020023210895325-0j)], [(0.1432106002635284+0j), (-0.46386700057437436-0.22354017480200883j), (-0.46386700057437436+0.22354017480200883j)]]\n",
      "[[<__main__.Matrix object at 0x00000194D5C1FCD0>, <__main__.Matrix object at 0x00000194D7FB4F50>, <__main__.Matrix object at 0x00000194D5CB2F10>], [<__main__.Matrix object at 0x00000194D56F8A10>, <__main__.Matrix object at 0x00000194D56FBFD0>, <__main__.Matrix object at 0x00000194D56FBE10>], [<__main__.Matrix object at 0x00000194D7FE6690>, <__main__.Matrix object at 0x00000194D7FE5550>, <__main__.Matrix object at 0x00000194D5756D50>]]\n",
      "rM1 = [[1, -5, 2, 6], [-6, -1, 4, 4], [4, -5, -5, -5], [5, 5, 2, -4], [-7, 3, 2, -7], [-5, 6, 1, 2], [-7, -6, 4, 0], [-4, -5, -6, -6]]\n",
      "rM2 = [[3, -7, -5, -4, 6, -2, -2], [-5, -4, -7, 3, -6, 1, 0], [3, -3, 3, 3, -2, 1, -3], [2, -3, -4, -7, -1, 1, 1], [1, -3, 2, -4, -4, 4, 2], [-5, -7, -7, 1, 6, 4, 3], [1, 2, 1, 2, -7, 5, -4]]\n",
      "[[<__main__.Matrix object at 0x00000194D5C1EA10>, <__main__.Matrix object at 0x00000194D7FB6B50>, <__main__.Matrix object at 0x00000194D7FB56D0>], [<__main__.Matrix object at 0x00000194D7E3FB90>, <__main__.Matrix object at 0x00000194D7FAC890>, <__main__.Matrix object at 0x00000194D7FAC850>], [<__main__.Matrix object at 0x00000194D7FAFED0>, <__main__.Matrix object at 0x00000194D7FAF890>, <__main__.Matrix object at 0x00000194D7FAFF50>]]\n"
     ]
    }
   ],
   "source": [
    "import numpy as np\n",
    "import random \n",
    "from numpy.linalg import eig\n",
    "\n",
    "class Matrix:\n",
    "    def __init__(self, M):\n",
    "        if not M:\n",
    "            n=random.randint(1,10)\n",
    "            m=random.randint(1,10)\n",
    "            self.shape=[n,m]\n",
    "            M=np.random.randint(-7,7,[n,m])\n",
    "            self.M=M.tolist()\n",
    "        else:       \n",
    "            n=len(M)\n",
    "            m=len(M[0])\n",
    "            self.shape=[n,m]\n",
    "            self.M=M\n",
    "    def __str__(self):\n",
    "        M=np.array(self.M)\n",
    "        return str(M.tolist())\n",
    "    def __add__(self,A):\n",
    "        M1=np.array(A)\n",
    "        M2=np.array(self.M)\n",
    "        response=M1.__add__(M2)\n",
    "        return(Matrix(response.tolist()))\n",
    "    def __mul__(self,A):\n",
    "        M1=np.array(A)\n",
    "        M2=np.array(self.M)\n",
    "        response=np.dot(M1,M2)\n",
    "        return(Matrix(response.tolist()))\n",
    "    \n",
    "class SquaredMatrix(Matrix):\n",
    "    def __init__(self,M):\n",
    "        super().__init__(M)\n",
    "    def __determinant__(self):\n",
    "        try:\n",
    "            response=np.linalg.det(np.array(self.M))\n",
    "            return(f\"Determinante: {response}\")\n",
    "        except: \n",
    "            return \"La matriz ingresada no es cuadrada.\"\n",
    "    def __eigen__(self):\n",
    "        try:\n",
    "            eigval,eigvec=eig(np.array(self.M))\n",
    "            return f\"eigenvalues: {eigval.tolist()}\\neigenvectors: {eigvec.tolist()}\"\n",
    "        except: \n",
    "            return \"La matriz ingresada no es cuadrada.\"\n",
    "\n",
    "M=Matrix([[2,4,6],[1,3,5]])\n",
    "print(\"M = \"+str(M))\n",
    "M1=SquaredMatrix([[1,2,3],[4,5,6],[0,1,1]])\n",
    "print(\"M1 = \"+str(M1))\n",
    "M2=SquaredMatrix([[1,2,3],[4,5,6]])\n",
    "print(M1.__add__([[2,3,4],[5,7,2],[1,0,0]]))\n",
    "print(M1.__determinant__())\n",
    "print(M2.__determinant__())\n",
    "print(M1.__eigen__())\n",
    "M3=SquaredMatrix([[3,2,1],[6,5,4],[1,0,1]])\n",
    "print(str(M1+M3))\n",
    "\n",
    "rM1=Matrix([])\n",
    "print(\"rM1 = \"+str(rM1))\n",
    "\n",
    "rM2=SquaredMatrix([])\n",
    "print(\"rM2 = \"+str(rM2))\n",
    "\n",
    "print(str(M1*M3))"
   ]
  },
  {
   "cell_type": "code",
   "execution_count": null,
   "id": "0dc00068",
   "metadata": {},
   "outputs": [],
   "source": []
  },
  {
   "cell_type": "code",
   "execution_count": null,
   "id": "bfcb32c8",
   "metadata": {},
   "outputs": [],
   "source": []
  },
  {
   "cell_type": "code",
   "execution_count": null,
   "id": "e2c94ef3",
   "metadata": {},
   "outputs": [],
   "source": []
  }
 ],
 "metadata": {
  "kernelspec": {
   "display_name": "Python 3 (ipykernel)",
   "language": "python",
   "name": "python3"
  },
  "language_info": {
   "codemirror_mode": {
    "name": "ipython",
    "version": 3
   },
   "file_extension": ".py",
   "mimetype": "text/x-python",
   "name": "python",
   "nbconvert_exporter": "python",
   "pygments_lexer": "ipython3",
   "version": "3.11.2"
  }
 },
 "nbformat": 4,
 "nbformat_minor": 5
}
