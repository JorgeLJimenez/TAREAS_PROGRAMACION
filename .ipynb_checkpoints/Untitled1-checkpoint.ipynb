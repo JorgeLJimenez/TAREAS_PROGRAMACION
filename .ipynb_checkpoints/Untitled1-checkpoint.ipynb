{
 "cells": [
  {
   "cell_type": "code",
   "execution_count": null,
   "id": "7f45592d",
   "metadata": {},
   "outputs": [],
   "source": [
    "meses=['enero','febrero','marzo','abril','mayo','junio','agosto','septiembre','octubre','noviembre','diciembre']\n",
    "\n",
    "while True:\n",
    "    print(\"Ingrese su edad\")\n",
    "    try: \n",
    "        edad=int(input(\">>>\"))\n",
    "    except:\n",
    "        print(\"Su edad debe de ser un número.\")\n",
    "    else:\n",
    "        if type(edad)!=int or edad<=0:\n",
    "            print(\"Su edad debe de ser un número entero positivo mayor a cero.\")\n",
    "        else:\n",
    "            while True:\n",
    "                print(\"Escriba el mes en el que nació (en texto)\")\n",
    "                mes=input('''>>>''').lower()\n",
    "                if mes in meses:\n",
    "                    if (edad >= 18 and mes in meses[:6]):\n",
    "                        print(\"Usted es mayor de edad y nacistes en la primera mitad de año.\")\n",
    "                    elif (edad >= 18 and mes in meses[6:]):\n",
    "                        print(\"Usted es menor de edad y nacistes en la segunda mitad del año.\")\n",
    "                    elif (edad < 18 and mes in meses[6:]):\n",
    "                        print(\"Usted es menor de edad y nacistes en la primera mitad de año.\")\n",
    "                    else: \n",
    "                        print(\"Usted es menor de edad y nacistes en la segunda mitad de año.\")\n",
    "                    break\n",
    "                else: \n",
    "                    print(\"Por favor ingresa un mes válido.\")\n",
    "    print(\"\\n\")"
   ]
  },
  {
   "cell_type": "code",
   "execution_count": null,
   "id": "6b66b9d2",
   "metadata": {},
   "outputs": [],
   "source": []
  }
 ],
 "metadata": {
  "kernelspec": {
   "display_name": "Python 3 (ipykernel)",
   "language": "python",
   "name": "python3"
  },
  "language_info": {
   "codemirror_mode": {
    "name": "ipython",
    "version": 3
   },
   "file_extension": ".py",
   "mimetype": "text/x-python",
   "name": "python",
   "nbconvert_exporter": "python",
   "pygments_lexer": "ipython3",
   "version": "3.11.2"
  }
 },
 "nbformat": 4,
 "nbformat_minor": 5
}
