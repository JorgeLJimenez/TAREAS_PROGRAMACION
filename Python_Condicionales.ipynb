{
 "cells": [
  {
   "cell_type": "markdown",
   "id": "5116d8e6",
   "metadata": {},
   "source": [
    "# Condicionales"
   ]
  },
  {
   "cell_type": "code",
   "execution_count": null,
   "id": "cc034a83",
   "metadata": {},
   "outputs": [],
   "source": [
    "meses=['enero','febrero','marzo','abril','mayo','junio','julio','agosto','septiembre','octubre','noviembre','diciembre']\n",
    "print(meses[:6])\n",
    "print(meses[6:])\n",
    "\n",
    "while True:\n",
    "    print(\"Ingrese su edad\")\n",
    "    try: \n",
    "        edad=int(input(\">>>\"))\n",
    "    except:\n",
    "        print(\"El dato ingresado no un número.\")\n",
    "    else:\n",
    "        if type(edad)!=int or edad<=0:\n",
    "            print(\"Su edad debe de ser un número entero positivo mayor a cero.\")\n",
    "        else:\n",
    "            while True:\n",
    "                print(\"Escriba el mes en el que nació (en texto)\")\n",
    "                mes=input('''>>>''').lower()\n",
    "                if mes in meses:\n",
    "                    if (edad >= 18 and mes in meses[:6]):\n",
    "                        print(\"Usted es mayor de edad y nacistes en la primera mitad de año.\")\n",
    "                    elif (edad >= 18 and mes in meses[6:]):\n",
    "                        print(\"Usted es menor de edad y nacistes en la segunda mitad del año.\")\n",
    "                    elif (edad < 18 and mes in meses[6:]):\n",
    "                        print(\"Usted es menor de edad y nacistes en la primera mitad de año.\")\n",
    "                    else: \n",
    "                        print(\"Usted es menor de edad y nacistes en la segunda mitad de año.\")\n",
    "                    break\n",
    "                else: \n",
    "                    print(\"Por favor ingresa un mes válido.\")\n",
    "    print(\"\\n\")"
   ]
  }
 ],
 "metadata": {
  "kernelspec": {
   "display_name": "Python 3 (ipykernel)",
   "language": "python",
   "name": "python3"
  }
 },
 "nbformat": 4,
 "nbformat_minor": 5
}
